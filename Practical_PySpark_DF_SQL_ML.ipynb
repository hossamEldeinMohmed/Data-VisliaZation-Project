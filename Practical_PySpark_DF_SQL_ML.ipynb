{
  "cells": [
    {
      "cell_type": "markdown",
      "metadata": {
        "id": "view-in-github",
        "colab_type": "text"
      },
      "source": [
        "<a href=\"https://colab.research.google.com/github/hossamEldeinMohmed/Data-VisliaZation-Project/blob/main/Practical_PySpark_DF_SQL_ML.ipynb\" target=\"_parent\"><img src=\"https://colab.research.google.com/assets/colab-badge.svg\" alt=\"Open In Colab\"/></a>"
      ]
    },
    {
      "cell_type": "markdown",
      "id": "05f1e8db",
      "metadata": {
        "id": "05f1e8db"
      },
      "source": [
        "# **Labs 1 and 2 PySpark:**\n",
        "\n",
        "In these labs we will be using the \"[[NeurIPS 2020] Data Science for COVID-19 (DS4C)](https://www.kaggle.com/datasets/kimjihoo/coronavirusdataset?select=PatientInfo.csv)\" dataset, retrieved from [Kaggle](https://www.kaggle.com/) on 1/6/2022, for educational non commercial purpose, License\n",
        "[CC BY-NC-SA 4.0\n",
        "](https://creativecommons.org/licenses/by-nc-sa/4.0/)\n",
        "\n",
        "\n",
        "The csv file that we will be using in this lab is **PatientInfo**."
      ]
    },
    {
      "cell_type": "code",
      "execution_count": null,
      "id": "bf3ce491",
      "metadata": {
        "colab": {
          "base_uri": "https://localhost:8080/"
        },
        "id": "bf3ce491",
        "outputId": "d4e3b3fe-b4d8-4a1d-c423-28b9ed2be047"
      },
      "outputs": [
        {
          "output_type": "stream",
          "name": "stdout",
          "text": [
            "Looking in indexes: https://pypi.org/simple, https://us-python.pkg.dev/colab-wheels/public/simple/\n",
            "Collecting pyspark\n",
            "  Downloading pyspark-3.3.0.tar.gz (281.3 MB)\n",
            "\u001b[K     |████████████████████████████████| 281.3 MB 45 kB/s \n",
            "\u001b[?25hCollecting py4j==0.10.9.5\n",
            "  Downloading py4j-0.10.9.5-py2.py3-none-any.whl (199 kB)\n",
            "\u001b[K     |████████████████████████████████| 199 kB 45.8 MB/s \n",
            "\u001b[?25hBuilding wheels for collected packages: pyspark\n",
            "  Building wheel for pyspark (setup.py) ... \u001b[?25l\u001b[?25hdone\n",
            "  Created wheel for pyspark: filename=pyspark-3.3.0-py2.py3-none-any.whl size=281764026 sha256=b178c473ec663239d7ff50c88876436a9b1e3ec5570b1a1590d582afe6bf12fd\n",
            "  Stored in directory: /root/.cache/pip/wheels/7a/8e/1b/f73a52650d2e5f337708d9f6a1750d451a7349a867f928b885\n",
            "Successfully built pyspark\n",
            "Installing collected packages: py4j, pyspark\n",
            "Successfully installed py4j-0.10.9.5 pyspark-3.3.0\n"
          ]
        }
      ],
      "source": [
        "pip install pyspark"
      ]
    },
    {
      "cell_type": "markdown",
      "id": "3ac9bbf0",
      "metadata": {
        "id": "3ac9bbf0"
      },
      "source": [
        "## PatientInfo.csv\n",
        "\n",
        "**patient_id**\n",
        "the ID of the patient\n",
        "\n",
        "**sex**\n",
        "the sex of the patient\n",
        "\n",
        "**age**\n",
        "the age of the patient\n",
        "\n",
        "**country**\n",
        "the country of the patient\n",
        "\n",
        "**province**\n",
        "the province of the patient\n",
        "\n",
        "**city**\n",
        "the city of the patient\n",
        "\n",
        "**infection_case**\n",
        "the case of infection\n",
        "\n",
        "**infected_by**\n",
        "the ID of who infected the patient\n",
        "\n",
        "\n",
        "**contact_number**\n",
        "the number of contacts with people\n",
        "\n",
        "**symptom_onset_date**\n",
        "the date of symptom onset\n",
        "\n",
        "**confirmed_date**\n",
        "the date of being confirmed\n",
        "\n",
        "**released_date**\n",
        "the date of being released\n",
        "\n",
        "**deceased_date**\n",
        "the date of being deceased\n",
        "\n",
        "**state**\n",
        "isolated / released / deceased"
      ]
    },
    {
      "cell_type": "markdown",
      "id": "34b6f619",
      "metadata": {
        "id": "34b6f619"
      },
      "source": [
        "### Import the pyspark and check it's version"
      ]
    },
    {
      "cell_type": "code",
      "execution_count": null,
      "id": "29fe2ddc",
      "metadata": {
        "colab": {
          "base_uri": "https://localhost:8080/"
        },
        "id": "29fe2ddc",
        "outputId": "ee0f0ab1-8122-4fd1-d46f-959a166c7038"
      },
      "outputs": [
        {
          "output_type": "stream",
          "name": "stdout",
          "text": [
            "PySpark version: 3.3.0\n"
          ]
        }
      ],
      "source": [
        "#Import the pyspark and check it's version\n",
        "import pyspark\n",
        "print(\"PySpark version:\", pyspark.__version__)\n"
      ]
    },
    {
      "cell_type": "markdown",
      "id": "70c0fc8e",
      "metadata": {
        "id": "70c0fc8e"
      },
      "source": [
        "### Import and create SparkSession"
      ]
    },
    {
      "cell_type": "code",
      "execution_count": null,
      "id": "94904228",
      "metadata": {
        "id": "94904228"
      },
      "outputs": [],
      "source": [
        "#Create a SparkSession\n",
        "spark = pyspark.sql.SparkSession.builder.getOrCreate()\n"
      ]
    },
    {
      "cell_type": "markdown",
      "id": "7356d68d",
      "metadata": {
        "id": "7356d68d"
      },
      "source": [
        "### Load the PatientInfo.csv file and show the first 5 rows"
      ]
    },
    {
      "cell_type": "code",
      "execution_count": null,
      "id": "d5185728",
      "metadata": {
        "colab": {
          "base_uri": "https://localhost:8080/",
          "height": 17
        },
        "id": "d5185728",
        "outputId": "6e972616-b042-4c60-9368-f486bc4b26ac"
      },
      "outputs": [
        {
          "output_type": "display_data",
          "data": {
            "text/plain": [
              "<IPython.core.display.HTML object>"
            ],
            "text/html": [
              "<style>pre { white-space: pre !important; }</style>"
            ]
          },
          "metadata": {}
        }
      ],
      "source": [
        "from IPython.display import display, HTML\n",
        "display(HTML(\"<style>pre { white-space: pre !important; }</style>\"))"
      ]
    },
    {
      "cell_type": "code",
      "execution_count": null,
      "id": "2196bca5",
      "metadata": {
        "colab": {
          "base_uri": "https://localhost:8080/"
        },
        "id": "2196bca5",
        "outputId": "fa7d621e-ccb5-4f5b-9b83-f328723f2858"
      },
      "outputs": [
        {
          "output_type": "stream",
          "name": "stdout",
          "text": [
            "+----------+------+---+-------+--------+-----------+--------------------+-----------+--------------+------------------+-------------------+-------------------+-------------+--------+\n",
            "|patient_id|   sex|age|country|province|       city|      infection_case|infected_by|contact_number|symptom_onset_date|     confirmed_date|      released_date|deceased_date|   state|\n",
            "+----------+------+---+-------+--------+-----------+--------------------+-----------+--------------+------------------+-------------------+-------------------+-------------+--------+\n",
            "|1000000001|  male|50s|  Korea|   Seoul| Gangseo-gu|     overseas inflow|       null|            75|        2020-01-22|2020-01-23 00:00:00|2020-02-05 00:00:00|         null|released|\n",
            "|1000000002|  male|30s|  Korea|   Seoul|Jungnang-gu|     overseas inflow|       null|            31|              null|2020-01-30 00:00:00|2020-03-02 00:00:00|         null|released|\n",
            "|1000000003|  male|50s|  Korea|   Seoul|  Jongno-gu|contact with patient| 2002000001|            17|              null|2020-01-30 00:00:00|2020-02-19 00:00:00|         null|released|\n",
            "|1000000004|  male|20s|  Korea|   Seoul|    Mapo-gu|     overseas inflow|       null|             9|        2020-01-26|2020-01-30 00:00:00|2020-02-15 00:00:00|         null|released|\n",
            "|1000000005|female|20s|  Korea|   Seoul|Seongbuk-gu|contact with patient| 1000000002|             2|              null|2020-01-31 00:00:00|2020-02-24 00:00:00|         null|released|\n",
            "+----------+------+---+-------+--------+-----------+--------------------+-----------+--------------+------------------+-------------------+-------------------+-------------+--------+\n",
            "only showing top 5 rows\n",
            "\n"
          ]
        }
      ],
      "source": [
        "# Load the PatientInfo.csv file and show the first 5 rows\n",
        "patient_info = spark.read.option(\"header\", \"true\").csv(\n",
        "    \"/content/PatientInfo.csv\", inferSchema=True)\n",
        "patient_info.show(5)\n"
      ]
    },
    {
      "cell_type": "markdown",
      "id": "4d43bdca",
      "metadata": {
        "id": "4d43bdca"
      },
      "source": [
        "### Display the schema of the dataset"
      ]
    },
    {
      "cell_type": "code",
      "execution_count": null,
      "id": "c51a2507",
      "metadata": {
        "colab": {
          "base_uri": "https://localhost:8080/"
        },
        "id": "c51a2507",
        "outputId": "f9952b0a-588d-4b87-f569-804d6d5ab16d"
      },
      "outputs": [
        {
          "output_type": "stream",
          "name": "stdout",
          "text": [
            "root\n",
            " |-- patient_id: long (nullable = true)\n",
            " |-- sex: string (nullable = true)\n",
            " |-- age: string (nullable = true)\n",
            " |-- country: string (nullable = true)\n",
            " |-- province: string (nullable = true)\n",
            " |-- city: string (nullable = true)\n",
            " |-- infection_case: string (nullable = true)\n",
            " |-- infected_by: string (nullable = true)\n",
            " |-- contact_number: string (nullable = true)\n",
            " |-- symptom_onset_date: string (nullable = true)\n",
            " |-- confirmed_date: timestamp (nullable = true)\n",
            " |-- released_date: timestamp (nullable = true)\n",
            " |-- deceased_date: timestamp (nullable = true)\n",
            " |-- state: string (nullable = true)\n",
            "\n"
          ]
        }
      ],
      "source": [
        "# Display the schema of the dataset\n",
        "patient_info.printSchema()\n"
      ]
    },
    {
      "cell_type": "markdown",
      "id": "3114e1dd",
      "metadata": {
        "id": "3114e1dd"
      },
      "source": [
        "### Display the statistical summary"
      ]
    },
    {
      "cell_type": "code",
      "execution_count": null,
      "id": "18d63947",
      "metadata": {
        "colab": {
          "base_uri": "https://localhost:8080/"
        },
        "id": "18d63947",
        "outputId": "a4155e5d-8225-4a52-c1bd-4691c8e9cb8b"
      },
      "outputs": [
        {
          "output_type": "stream",
          "name": "stdout",
          "text": [
            "+-------+--------------------+------+----+----------+--------+--------------+--------------------+--------------------+--------------------+------------------+--------+\n",
            "|summary|          patient_id|   sex| age|   country|province|          city|      infection_case|         infected_by|      contact_number|symptom_onset_date|   state|\n",
            "+-------+--------------------+------+----+----------+--------+--------------+--------------------+--------------------+--------------------+------------------+--------+\n",
            "|  count|                5165|  4043|3785|      5165|    5165|          5071|                4246|                1346|                 791|               690|    5165|\n",
            "|   mean|2.8636345618679576E9|  null|null|      null|    null|          null|                null|2.2845944015643125E9|1.6772572523506988E7|              null|    null|\n",
            "| stddev| 2.074210725277473E9|  null|null|      null|    null|          null|                null|1.5265072953383324E9| 3.093097580985502E8|              null|    null|\n",
            "|    min|          1000000001|female|  0s|Bangladesh|   Busan|     Andong-si|Anyang Gunpo Past...|          1000000002|                   -|                  |deceased|\n",
            "|    max|          7000000019|  male| 90s|   Vietnam|   Ulsan|sankyeock-dong|     overseas inflow|          7000000009|                  95|        2020-06-28|released|\n",
            "+-------+--------------------+------+----+----------+--------+--------------+--------------------+--------------------+--------------------+------------------+--------+\n",
            "\n"
          ]
        }
      ],
      "source": [
        "# Display the statistical summary\n",
        "patient_info.describe().show()\n"
      ]
    },
    {
      "cell_type": "markdown",
      "id": "c78859b9",
      "metadata": {
        "id": "c78859b9"
      },
      "source": [
        "### Using the state column.\n",
        "### How many people survived (released), and how many didn't survive (isolated/deceased)?"
      ]
    },
    {
      "cell_type": "code",
      "execution_count": null,
      "id": "63e84045",
      "metadata": {
        "colab": {
          "base_uri": "https://localhost:8080/"
        },
        "id": "63e84045",
        "outputId": "219131ee-2ce1-4fdc-cba4-2fbbc9084587"
      },
      "outputs": [
        {
          "output_type": "stream",
          "name": "stdout",
          "text": [
            "+--------+-----+\n",
            "|   State|count|\n",
            "+--------+-----+\n",
            "|isolated| 2158|\n",
            "|released| 2929|\n",
            "|deceased|   78|\n",
            "+--------+-----+\n",
            "\n"
          ]
        }
      ],
      "source": [
        "# Using the state column.\n",
        "# How many people survived (released), and how many didn't survive (isolated/deceased)?\n",
        "patient_info.groupBy(\"State\").count().show()\n",
        "\n"
      ]
    },
    {
      "cell_type": "markdown",
      "id": "59c16346",
      "metadata": {
        "id": "59c16346"
      },
      "source": [
        "### Display the number of null values in each column"
      ]
    },
    {
      "cell_type": "code",
      "execution_count": null,
      "id": "f59d6473",
      "metadata": {
        "id": "f59d6473"
      },
      "outputs": [],
      "source": [
        "from string import *\n",
        "from pyspark.sql.functions import *\n"
      ]
    },
    {
      "cell_type": "code",
      "execution_count": null,
      "id": "4adc0ab6",
      "metadata": {
        "colab": {
          "base_uri": "https://localhost:8080/"
        },
        "id": "4adc0ab6",
        "outputId": "2683b9e4-49ec-4865-8905-ec7b38449be1"
      },
      "outputs": [
        {
          "output_type": "stream",
          "name": "stdout",
          "text": [
            "+----------------+---------+---------+-------------+--------------+----------+--------------------+-----------------+--------------------+------------------------+--------------------+-------------------+-------------------+-----------+\n",
            "|patient_id Nulls|sex Nulls|age Nulls|country Nulls|province Nulls|city Nulls|infection_case Nulls|infected_by Nulls|contact_number Nulls|symptom_onset_date Nulls|confirmed_date Nulls|released_date Nulls|deceased_date Nulls|state Nulls|\n",
            "+----------------+---------+---------+-------------+--------------+----------+--------------------+-----------------+--------------------+------------------------+--------------------+-------------------+-------------------+-----------+\n",
            "|               0|     1122|     1380|            0|             0|        94|                 919|             3819|                4374|                    4475|                   3|               3578|               5099|          0|\n",
            "+----------------+---------+---------+-------------+--------------+----------+--------------------+-----------------+--------------------+------------------------+--------------------+-------------------+-------------------+-----------+\n",
            "\n"
          ]
        }
      ],
      "source": [
        "# Display the number of null values in each column\n",
        "from pyspark.sql.functions import col, isnan, when, count\n",
        "from pyspark.sql.functions import *\n",
        "patient_info.select([count(when(col(c).isNull(),c)).alias(c+\" Nulls\") for c in patient_info.columns]).show()\n"
      ]
    },
    {
      "cell_type": "markdown",
      "id": "c3133f5a",
      "metadata": {
        "id": "c3133f5a"
      },
      "source": [
        "## Data preprocessing"
      ]
    },
    {
      "cell_type": "markdown",
      "id": "ec32fa0c",
      "metadata": {
        "id": "ec32fa0c"
      },
      "source": [
        "### Fill the nulls in the deceased_date with the released_date. \n",
        "- You can use <b>coalesce</b> function"
      ]
    },
    {
      "cell_type": "code",
      "execution_count": null,
      "id": "d5374bf1",
      "metadata": {
        "id": "d5374bf1"
      },
      "outputs": [],
      "source": [
        "#import coalesce \n",
        "from pyspark.sql.functions import coalesce\n"
      ]
    },
    {
      "cell_type": "code",
      "execution_count": null,
      "id": "d5ba64f9",
      "metadata": {
        "colab": {
          "base_uri": "https://localhost:8080/"
        },
        "id": "d5ba64f9",
        "outputId": "a9794c13-712d-4a2a-a8d2-57b716473799"
      },
      "outputs": [
        {
          "output_type": "stream",
          "name": "stdout",
          "text": [
            "+----------+------+---+-------+--------+------------+--------------------+-----------+--------------+------------------+-------------------+-------------------+-------------------+--------+\n",
            "|patient_id|   sex|age|country|province|        city|      infection_case|infected_by|contact_number|symptom_onset_date|     confirmed_date|      released_date|      deceased_date|   state|\n",
            "+----------+------+---+-------+--------+------------+--------------------+-----------+--------------+------------------+-------------------+-------------------+-------------------+--------+\n",
            "|1000000001|  male|50s|  Korea|   Seoul|  Gangseo-gu|     overseas inflow|       null|            75|        2020-01-22|2020-01-23 00:00:00|2020-02-05 00:00:00|2020-02-05 00:00:00|released|\n",
            "|1000000002|  male|30s|  Korea|   Seoul| Jungnang-gu|     overseas inflow|       null|            31|              null|2020-01-30 00:00:00|2020-03-02 00:00:00|2020-03-02 00:00:00|released|\n",
            "|1000000003|  male|50s|  Korea|   Seoul|   Jongno-gu|contact with patient| 2002000001|            17|              null|2020-01-30 00:00:00|2020-02-19 00:00:00|2020-02-19 00:00:00|released|\n",
            "|1000000004|  male|20s|  Korea|   Seoul|     Mapo-gu|     overseas inflow|       null|             9|        2020-01-26|2020-01-30 00:00:00|2020-02-15 00:00:00|2020-02-15 00:00:00|released|\n",
            "|1000000005|female|20s|  Korea|   Seoul| Seongbuk-gu|contact with patient| 1000000002|             2|              null|2020-01-31 00:00:00|2020-02-24 00:00:00|2020-02-24 00:00:00|released|\n",
            "|1000000006|female|50s|  Korea|   Seoul|   Jongno-gu|contact with patient| 1000000003|            43|              null|2020-01-31 00:00:00|2020-02-19 00:00:00|2020-02-19 00:00:00|released|\n",
            "|1000000007|  male|20s|  Korea|   Seoul|   Jongno-gu|contact with patient| 1000000003|             0|              null|2020-01-31 00:00:00|2020-02-10 00:00:00|2020-02-10 00:00:00|released|\n",
            "|1000000008|  male|20s|  Korea|   Seoul|         etc|     overseas inflow|       null|             0|              null|2020-02-02 00:00:00|2020-02-24 00:00:00|2020-02-24 00:00:00|released|\n",
            "|1000000009|  male|30s|  Korea|   Seoul|   Songpa-gu|     overseas inflow|       null|            68|              null|2020-02-05 00:00:00|2020-02-21 00:00:00|2020-02-21 00:00:00|released|\n",
            "|1000000010|female|60s|  Korea|   Seoul| Seongbuk-gu|contact with patient| 1000000003|             6|              null|2020-02-05 00:00:00|2020-02-29 00:00:00|2020-02-29 00:00:00|released|\n",
            "|1000000011|female|50s|  China|   Seoul|Seodaemun-gu|     overseas inflow|       null|            23|              null|2020-02-06 00:00:00|2020-02-29 00:00:00|2020-02-29 00:00:00|released|\n",
            "|1000000012|  male|20s|  Korea|   Seoul|         etc|     overseas inflow|       null|             0|              null|2020-02-07 00:00:00|2020-02-27 00:00:00|2020-02-27 00:00:00|released|\n",
            "|1000000013|  male|80s|  Korea|   Seoul|   Jongno-gu|contact with patient| 1000000017|           117|              null|2020-02-16 00:00:00|               null|               null|deceased|\n",
            "|1000000014|female|60s|  Korea|   Seoul|   Jongno-gu|contact with patient| 1000000013|            27|        2020-02-06|2020-02-16 00:00:00|2020-03-12 00:00:00|2020-03-12 00:00:00|released|\n",
            "|1000000015|  male|70s|  Korea|   Seoul|Seongdong-gu|    Seongdong-gu APT|       null|             8|        2020-02-11|2020-02-19 00:00:00|               null|               null|released|\n",
            "|1000000016|  male|70s|  Korea|   Seoul|   Jongno-gu|contact with patient| 1000000017|          null|              null|2020-02-19 00:00:00|2020-03-11 00:00:00|2020-03-11 00:00:00|released|\n",
            "|1000000017|  male|70s|  Korea|   Seoul|   Jongno-gu|contact with patient| 1000000003|          null|              null|2020-02-20 00:00:00|2020-03-01 00:00:00|2020-03-01 00:00:00|released|\n",
            "|1000000018|  male|20s|  Korea|   Seoul|         etc|                 etc|       null|          null|              null|2020-02-20 00:00:00|               null|               null|released|\n",
            "|1000000019|female|70s|  Korea|   Seoul|   Jongno-gu|contact with patient| 1000000021|          null|              null|2020-02-20 00:00:00|2020-03-08 00:00:00|2020-03-08 00:00:00|released|\n",
            "|1000000020|female|70s|  Korea|   Seoul|Seongdong-gu|    Seongdong-gu APT| 1000000015|          null|              null|2020-02-20 00:00:00|               null|               null|released|\n",
            "+----------+------+---+-------+--------+------------+--------------------+-----------+--------------+------------------+-------------------+-------------------+-------------------+--------+\n",
            "only showing top 20 rows\n",
            "\n"
          ]
        }
      ],
      "source": [
        "# Fill the nulls in the deceased_date with the released_date.\n",
        "#You can use coalesce function\n",
        "patient_info = patient_info.withColumn(\"deceased_date\", coalesce(\n",
        "    patient_info.deceased_date, patient_info.released_date))\n",
        "patient_info.show()"
      ]
    },
    {
      "cell_type": "markdown",
      "id": "4ec324f5",
      "metadata": {
        "id": "4ec324f5"
      },
      "source": [
        "### Add a column named no_days which is difference between the deceased_date and the confirmed_date then show the top 5 rows. Print the schema.\n",
        "- <b> Hint: You need to typecast these columns as date first <b>"
      ]
    },
    {
      "cell_type": "code",
      "execution_count": null,
      "id": "d065e472",
      "metadata": {
        "colab": {
          "base_uri": "https://localhost:8080/"
        },
        "id": "d065e472",
        "outputId": "250e93b7-d026-45f4-bdfb-6561a4c3cccf"
      },
      "outputs": [
        {
          "output_type": "stream",
          "name": "stdout",
          "text": [
            "+----------+------+---+-------+--------+-----------+--------------------+-----------+--------------+------------------+-------------------+-------------------+-------------------+--------+-------+\n",
            "|patient_id|   sex|age|country|province|       city|      infection_case|infected_by|contact_number|symptom_onset_date|     confirmed_date|      released_date|      deceased_date|   state|no_days|\n",
            "+----------+------+---+-------+--------+-----------+--------------------+-----------+--------------+------------------+-------------------+-------------------+-------------------+--------+-------+\n",
            "|1000000001|  male|50s|  Korea|   Seoul| Gangseo-gu|     overseas inflow|       null|            75|        2020-01-22|2020-01-23 00:00:00|2020-02-05 00:00:00|2020-02-05 00:00:00|released|1123200|\n",
            "|1000000002|  male|30s|  Korea|   Seoul|Jungnang-gu|     overseas inflow|       null|            31|              null|2020-01-30 00:00:00|2020-03-02 00:00:00|2020-03-02 00:00:00|released|2764800|\n",
            "|1000000003|  male|50s|  Korea|   Seoul|  Jongno-gu|contact with patient| 2002000001|            17|              null|2020-01-30 00:00:00|2020-02-19 00:00:00|2020-02-19 00:00:00|released|1728000|\n",
            "|1000000004|  male|20s|  Korea|   Seoul|    Mapo-gu|     overseas inflow|       null|             9|        2020-01-26|2020-01-30 00:00:00|2020-02-15 00:00:00|2020-02-15 00:00:00|released|1382400|\n",
            "|1000000005|female|20s|  Korea|   Seoul|Seongbuk-gu|contact with patient| 1000000002|             2|              null|2020-01-31 00:00:00|2020-02-24 00:00:00|2020-02-24 00:00:00|released|2073600|\n",
            "+----------+------+---+-------+--------+-----------+--------------------+-----------+--------------+------------------+-------------------+-------------------+-------------------+--------+-------+\n",
            "only showing top 5 rows\n",
            "\n",
            "root\n",
            " |-- patient_id: long (nullable = true)\n",
            " |-- sex: string (nullable = true)\n",
            " |-- age: string (nullable = true)\n",
            " |-- country: string (nullable = true)\n",
            " |-- province: string (nullable = true)\n",
            " |-- city: string (nullable = true)\n",
            " |-- infection_case: string (nullable = true)\n",
            " |-- infected_by: string (nullable = true)\n",
            " |-- contact_number: string (nullable = true)\n",
            " |-- symptom_onset_date: string (nullable = true)\n",
            " |-- confirmed_date: timestamp (nullable = true)\n",
            " |-- released_date: timestamp (nullable = true)\n",
            " |-- deceased_date: timestamp (nullable = true)\n",
            " |-- state: string (nullable = true)\n",
            " |-- no_days: integer (nullable = true)\n",
            "\n"
          ]
        }
      ],
      "source": [
        "# Add a column named no_days which is difference between the deceased_date and the confirmed_date then show the top 5 rows. Print the schema.\n",
        "# Hint: You need to typecast these columns as date first \n",
        "patient_info = patient_info.withColumn(\"no_days\", (patient_info.deceased_date - patient_info.confirmed_date).cast(\"int\"))\n",
        "patient_info.show(5)\n",
        "patient_info.printSchema()"
      ]
    },
    {
      "cell_type": "code",
      "execution_count": null,
      "id": "ac6d2f33",
      "metadata": {
        "id": "ac6d2f33"
      },
      "outputs": [],
      "source": []
    },
    {
      "cell_type": "code",
      "execution_count": null,
      "id": "c7b77fe1",
      "metadata": {
        "id": "c7b77fe1"
      },
      "outputs": [],
      "source": [
        "#import sparck function\n",
        "from pyspark.sql.functions import *"
      ]
    },
    {
      "cell_type": "markdown",
      "id": "967b2466",
      "metadata": {
        "id": "967b2466"
      },
      "source": [
        "# Add a is_male column if male then it should yield true, else then False"
      ]
    },
    {
      "cell_type": "code",
      "execution_count": null,
      "id": "8efe03b5",
      "metadata": {
        "id": "8efe03b5"
      },
      "outputs": [],
      "source": [
        "# Add a is_male column if male then it should yield true, else then False\n",
        "patient_info = patient_info.withColumn('is_male',when((patient_info[\"sex\"] == \"male\"), True).otherwise(False))"
      ]
    },
    {
      "cell_type": "markdown",
      "id": "8603d7c0",
      "metadata": {
        "id": "8603d7c0"
      },
      "source": [
        "### Add a is_dead column if patient state is not released then it should yield true, else then False\n",
        "\n",
        "- Use <b>UDF</b> to perform this task. \n",
        "- However, UDF is not recommended there is no built in function can do the required operation.\n",
        "- UDF is slower than built in functions."
      ]
    },
    {
      "cell_type": "code",
      "execution_count": null,
      "id": "d3343075",
      "metadata": {
        "colab": {
          "base_uri": "https://localhost:8080/"
        },
        "id": "d3343075",
        "outputId": "e9563304-afdd-4848-e57b-c759d53a2099"
      },
      "outputs": [
        {
          "output_type": "stream",
          "name": "stdout",
          "text": [
            "+----------+------+---+-------+--------+-----------+--------------------+-----------+--------------+------------------+-------------------+-------------------+-------------------+--------+-------+-------+-------+\n",
            "|patient_id|   sex|age|country|province|       city|      infection_case|infected_by|contact_number|symptom_onset_date|     confirmed_date|      released_date|      deceased_date|   state|no_days|is_male|is_dead|\n",
            "+----------+------+---+-------+--------+-----------+--------------------+-----------+--------------+------------------+-------------------+-------------------+-------------------+--------+-------+-------+-------+\n",
            "|1000000001|  male|50s|  Korea|   Seoul| Gangseo-gu|     overseas inflow|       null|            75|        2020-01-22|2020-01-23 00:00:00|2020-02-05 00:00:00|2020-02-05 00:00:00|released|1123200|   true|  false|\n",
            "|1000000002|  male|30s|  Korea|   Seoul|Jungnang-gu|     overseas inflow|       null|            31|              null|2020-01-30 00:00:00|2020-03-02 00:00:00|2020-03-02 00:00:00|released|2764800|   true|  false|\n",
            "|1000000003|  male|50s|  Korea|   Seoul|  Jongno-gu|contact with patient| 2002000001|            17|              null|2020-01-30 00:00:00|2020-02-19 00:00:00|2020-02-19 00:00:00|released|1728000|   true|  false|\n",
            "|1000000004|  male|20s|  Korea|   Seoul|    Mapo-gu|     overseas inflow|       null|             9|        2020-01-26|2020-01-30 00:00:00|2020-02-15 00:00:00|2020-02-15 00:00:00|released|1382400|   true|  false|\n",
            "|1000000005|female|20s|  Korea|   Seoul|Seongbuk-gu|contact with patient| 1000000002|             2|              null|2020-01-31 00:00:00|2020-02-24 00:00:00|2020-02-24 00:00:00|released|2073600|  false|  false|\n",
            "+----------+------+---+-------+--------+-----------+--------------------+-----------+--------------+------------------+-------------------+-------------------+-------------------+--------+-------+-------+-------+\n",
            "only showing top 5 rows\n",
            "\n"
          ]
        }
      ],
      "source": [
        "# Add a is_dead column if patient state is not released then it should yield true, else then False\n",
        "\n",
        "#Use UDF to perform this task. \n",
        "#However, UDF is not recommended there is no built in function can do the required operation.\n",
        "# UDF is slower than built in functions.\n",
        "# You can use the following code to create a UDF\n",
        "# You can use the following code to create \n",
        "from pyspark.sql.functions import udf\n",
        "is_dead_udf = udf(lambda x: True if x == \"isolated\" or x == \"deceased\" else False)\n",
        "patient_info = patient_info.withColumn(\"is_dead\", is_dead_udf(patient_info.state))\n",
        "patient_info.show(5)"
      ]
    },
    {
      "cell_type": "markdown",
      "id": "e15264a9",
      "metadata": {
        "id": "e15264a9"
      },
      "source": [
        "### Change the ages to bins from 10s, 0s, 10s, 20s,.etc to 0,10, 20"
      ]
    },
    {
      "cell_type": "code",
      "execution_count": null,
      "id": "7a2b57ed",
      "metadata": {
        "colab": {
          "base_uri": "https://localhost:8080/"
        },
        "id": "7a2b57ed",
        "outputId": "ffb08340-8f64-46a7-aced-1287494f1f9b"
      },
      "outputs": [
        {
          "output_type": "stream",
          "name": "stdout",
          "text": [
            "+----------+----+---+-------+--------+-----------+---------------+-----------+--------------+------------------+-------------------+-------------------+-------------------+--------+-------+-------+-------+\n",
            "|patient_id| sex|age|country|province|       city| infection_case|infected_by|contact_number|symptom_onset_date|     confirmed_date|      released_date|      deceased_date|   state|no_days|is_male|is_dead|\n",
            "+----------+----+---+-------+--------+-----------+---------------+-----------+--------------+------------------+-------------------+-------------------+-------------------+--------+-------+-------+-------+\n",
            "|1000000001|male| 50|  Korea|   Seoul| Gangseo-gu|overseas inflow|       null|            75|        2020-01-22|2020-01-23 00:00:00|2020-02-05 00:00:00|2020-02-05 00:00:00|released|1123200|   true|  false|\n",
            "|1000000002|male| 30|  Korea|   Seoul|Jungnang-gu|overseas inflow|       null|            31|              null|2020-01-30 00:00:00|2020-03-02 00:00:00|2020-03-02 00:00:00|released|2764800|   true|  false|\n",
            "+----------+----+---+-------+--------+-----------+---------------+-----------+--------------+------------------+-------------------+-------------------+-------------------+--------+-------+-------+-------+\n",
            "only showing top 2 rows\n",
            "\n"
          ]
        }
      ],
      "source": [
        "# Change the ages to bins from 10s, 0s, 10s, 20s,.etc to 0,10, 20\n",
        "patient_info = patient_info.withColumn(\"age\", regexp_replace(\"age\", \"s\", ''))\n",
        "patient_info.show(2)"
      ]
    },
    {
      "cell_type": "markdown",
      "id": "43cdf846",
      "metadata": {
        "id": "43cdf846"
      },
      "source": [
        "### Change age, and no_days  to be typecasted as Doubleis_male"
      ]
    },
    {
      "cell_type": "code",
      "execution_count": null,
      "id": "dfea7fcb",
      "metadata": {
        "id": "dfea7fcb"
      },
      "outputs": [],
      "source": [
        "# Change age, and no_days  to be typecasted as Double\n",
        "patient_info = patient_info.withColumn(\"age\", patient_info.age.cast(\"double\"))\n",
        "patient_info = patient_info.withColumn(\"no_days\", patient_info.no_days.cast(\"double\"))\n"
      ]
    },
    {
      "cell_type": "code",
      "execution_count": null,
      "id": "6b44d2da",
      "metadata": {
        "colab": {
          "base_uri": "https://localhost:8080/"
        },
        "id": "6b44d2da",
        "outputId": "bd0831f9-2542-4b0c-abd3-8efaf452eb6b"
      },
      "outputs": [
        {
          "output_type": "stream",
          "name": "stdout",
          "text": [
            "+----------+------+----+-------+--------+-----------+--------------------+-----------+--------------+------------------+-------------------+-------------------+-------------------+--------+---------+-------+-------+\n",
            "|patient_id|   sex| age|country|province|       city|      infection_case|infected_by|contact_number|symptom_onset_date|     confirmed_date|      released_date|      deceased_date|   state|  no_days|is_male|is_dead|\n",
            "+----------+------+----+-------+--------+-----------+--------------------+-----------+--------------+------------------+-------------------+-------------------+-------------------+--------+---------+-------+-------+\n",
            "|1000000001|  male|50.0|  Korea|   Seoul| Gangseo-gu|     overseas inflow|       null|            75|        2020-01-22|2020-01-23 00:00:00|2020-02-05 00:00:00|2020-02-05 00:00:00|released|1123200.0|   true|  false|\n",
            "|1000000002|  male|30.0|  Korea|   Seoul|Jungnang-gu|     overseas inflow|       null|            31|              null|2020-01-30 00:00:00|2020-03-02 00:00:00|2020-03-02 00:00:00|released|2764800.0|   true|  false|\n",
            "|1000000003|  male|50.0|  Korea|   Seoul|  Jongno-gu|contact with patient| 2002000001|            17|              null|2020-01-30 00:00:00|2020-02-19 00:00:00|2020-02-19 00:00:00|released|1728000.0|   true|  false|\n",
            "|1000000004|  male|20.0|  Korea|   Seoul|    Mapo-gu|     overseas inflow|       null|             9|        2020-01-26|2020-01-30 00:00:00|2020-02-15 00:00:00|2020-02-15 00:00:00|released|1382400.0|   true|  false|\n",
            "|1000000005|female|20.0|  Korea|   Seoul|Seongbuk-gu|contact with patient| 1000000002|             2|              null|2020-01-31 00:00:00|2020-02-24 00:00:00|2020-02-24 00:00:00|released|2073600.0|  false|  false|\n",
            "+----------+------+----+-------+--------+-----------+--------------------+-----------+--------------+------------------+-------------------+-------------------+-------------------+--------+---------+-------+-------+\n",
            "only showing top 5 rows\n",
            "\n"
          ]
        }
      ],
      "source": [
        "patient_info.show(5)"
      ]
    },
    {
      "cell_type": "markdown",
      "id": "d31e3a87",
      "metadata": {
        "id": "d31e3a87"
      },
      "source": [
        "### Drop the columns\n",
        "[\"patient_id\",\"sex\",\"infected_by\",\"contact_number\",\"released_date\",\"state\",\n",
        "\"symptom_onset_date\",\"confirmed_date\",\"deceased_date\",\"country\",\"no_days\",\n",
        "\"city\",\"infection_case\"]"
      ]
    },
    {
      "cell_type": "code",
      "execution_count": null,
      "id": "3ae0c428",
      "metadata": {
        "id": "3ae0c428"
      },
      "outputs": [],
      "source": [
        "# Drop the columns\n",
        "#[\"patient_id\",\"sex\",\"infected_by\",\"contact_number\",\"released_date\",\"state\",\"symptom_onset_date\",\"confirmed_date\",\"deceased_date\",\"country\",\"no_days\",\"city\",\"infection_case\"]\n",
        "\n",
        "patient_info=patient_info.drop(\"patient_id\",\"sex\",\"infected_by\",\"contact_number\",\"released_date\",\"state\",\n",
        "\"symptom_onset_date\",\"confirmed_date\",\"deceased_date\",\"country\",\"no_days\",\n",
        "\"city\",\"infection_case\") "
      ]
    },
    {
      "cell_type": "markdown",
      "id": "32df47a6",
      "metadata": {
        "id": "32df47a6"
      },
      "source": [
        "### Recount the number of nulls now"
      ]
    },
    {
      "cell_type": "code",
      "execution_count": null,
      "id": "6d66eaa7",
      "metadata": {
        "colab": {
          "base_uri": "https://localhost:8080/"
        },
        "id": "6d66eaa7",
        "outputId": "970a1a8d-5c58-4103-cb03-27e61b1df2df"
      },
      "outputs": [
        {
          "output_type": "stream",
          "name": "stdout",
          "text": [
            "+---------+--------------+-------------+-------------+\n",
            "|age Nulls|province Nulls|is_male Nulls|is_dead Nulls|\n",
            "+---------+--------------+-------------+-------------+\n",
            "|     1380|             0|            0|            0|\n",
            "+---------+--------------+-------------+-------------+\n",
            "\n"
          ]
        }
      ],
      "source": [
        "# count the number of nulls \n",
        "patient_info.select([count(when(col(c).isNull(),c)).alias(c+\" Nulls\") for c in patient_info.columns]).show()"
      ]
    },
    {
      "cell_type": "code",
      "source": [
        "patient_info.show()"
      ],
      "metadata": {
        "colab": {
          "base_uri": "https://localhost:8080/"
        },
        "id": "zwLe3imUaAIj",
        "outputId": "64a6ee50-fccc-4ea5-a765-bae620ca30c9"
      },
      "id": "zwLe3imUaAIj",
      "execution_count": null,
      "outputs": [
        {
          "output_type": "stream",
          "name": "stdout",
          "text": [
            "+----+--------+-------+-------+\n",
            "| age|province|is_male|is_dead|\n",
            "+----+--------+-------+-------+\n",
            "|50.0|   Seoul|   true|  false|\n",
            "|30.0|   Seoul|   true|  false|\n",
            "|50.0|   Seoul|   true|  false|\n",
            "|20.0|   Seoul|   true|  false|\n",
            "|20.0|   Seoul|  false|  false|\n",
            "|50.0|   Seoul|  false|  false|\n",
            "|20.0|   Seoul|   true|  false|\n",
            "|20.0|   Seoul|   true|  false|\n",
            "|30.0|   Seoul|   true|  false|\n",
            "|60.0|   Seoul|  false|  false|\n",
            "|50.0|   Seoul|  false|  false|\n",
            "|20.0|   Seoul|   true|  false|\n",
            "|80.0|   Seoul|   true|   true|\n",
            "|60.0|   Seoul|  false|  false|\n",
            "|70.0|   Seoul|   true|  false|\n",
            "|70.0|   Seoul|   true|  false|\n",
            "|70.0|   Seoul|   true|  false|\n",
            "|20.0|   Seoul|   true|  false|\n",
            "|70.0|   Seoul|  false|  false|\n",
            "|70.0|   Seoul|  false|  false|\n",
            "+----+--------+-------+-------+\n",
            "only showing top 20 rows\n",
            "\n"
          ]
        }
      ]
    },
    {
      "cell_type": "markdown",
      "id": "cc71f158",
      "metadata": {
        "id": "cc71f158"
      },
      "source": [
        "## Now do the same but using SQL select statement"
      ]
    },
    {
      "cell_type": "markdown",
      "id": "1d540282",
      "metadata": {
        "id": "1d540282"
      },
      "source": [
        "### From the original Patient DataFrame, Create a temporary view (table)."
      ]
    },
    {
      "cell_type": "code",
      "execution_count": null,
      "id": "62baee8e",
      "metadata": {
        "id": "62baee8e"
      },
      "outputs": [],
      "source": [
        "df2= spark.read.option(\"header\", \"true\").csv(\n",
        "    \"PatientInfo.csv\", inferSchema=True)"
      ]
    },
    {
      "cell_type": "code",
      "execution_count": null,
      "id": "cf56099f",
      "metadata": {
        "id": "cf56099f"
      },
      "outputs": [],
      "source": [
        "# From the original Patient DataFrame, Create a temporary view (table).\n",
        "df2.createOrReplaceTempView(\"patient_info\")\n"
      ]
    },
    {
      "cell_type": "markdown",
      "id": "cb004277",
      "metadata": {
        "id": "cb004277"
      },
      "source": [
        "### Use SELECT statement to select all columns from the dataframe and show the output."
      ]
    },
    {
      "cell_type": "code",
      "execution_count": null,
      "id": "12ae8226",
      "metadata": {
        "scrolled": false,
        "colab": {
          "base_uri": "https://localhost:8080/"
        },
        "id": "12ae8226",
        "outputId": "962818bd-97c9-4b9c-b2ed-b5b3ec3a16d4"
      },
      "outputs": [
        {
          "output_type": "stream",
          "name": "stdout",
          "text": [
            "+----------+------+---+-------+--------+------------+--------------------+-----------+--------------+------------------+-------------------+-------------------+-------------+--------+\n",
            "|patient_id|   sex|age|country|province|        city|      infection_case|infected_by|contact_number|symptom_onset_date|     confirmed_date|      released_date|deceased_date|   state|\n",
            "+----------+------+---+-------+--------+------------+--------------------+-----------+--------------+------------------+-------------------+-------------------+-------------+--------+\n",
            "|1000000001|  male|50s|  Korea|   Seoul|  Gangseo-gu|     overseas inflow|       null|            75|        2020-01-22|2020-01-23 00:00:00|2020-02-05 00:00:00|         null|released|\n",
            "|1000000002|  male|30s|  Korea|   Seoul| Jungnang-gu|     overseas inflow|       null|            31|              null|2020-01-30 00:00:00|2020-03-02 00:00:00|         null|released|\n",
            "|1000000003|  male|50s|  Korea|   Seoul|   Jongno-gu|contact with patient| 2002000001|            17|              null|2020-01-30 00:00:00|2020-02-19 00:00:00|         null|released|\n",
            "|1000000004|  male|20s|  Korea|   Seoul|     Mapo-gu|     overseas inflow|       null|             9|        2020-01-26|2020-01-30 00:00:00|2020-02-15 00:00:00|         null|released|\n",
            "|1000000005|female|20s|  Korea|   Seoul| Seongbuk-gu|contact with patient| 1000000002|             2|              null|2020-01-31 00:00:00|2020-02-24 00:00:00|         null|released|\n",
            "|1000000006|female|50s|  Korea|   Seoul|   Jongno-gu|contact with patient| 1000000003|            43|              null|2020-01-31 00:00:00|2020-02-19 00:00:00|         null|released|\n",
            "|1000000007|  male|20s|  Korea|   Seoul|   Jongno-gu|contact with patient| 1000000003|             0|              null|2020-01-31 00:00:00|2020-02-10 00:00:00|         null|released|\n",
            "|1000000008|  male|20s|  Korea|   Seoul|         etc|     overseas inflow|       null|             0|              null|2020-02-02 00:00:00|2020-02-24 00:00:00|         null|released|\n",
            "|1000000009|  male|30s|  Korea|   Seoul|   Songpa-gu|     overseas inflow|       null|            68|              null|2020-02-05 00:00:00|2020-02-21 00:00:00|         null|released|\n",
            "|1000000010|female|60s|  Korea|   Seoul| Seongbuk-gu|contact with patient| 1000000003|             6|              null|2020-02-05 00:00:00|2020-02-29 00:00:00|         null|released|\n",
            "|1000000011|female|50s|  China|   Seoul|Seodaemun-gu|     overseas inflow|       null|            23|              null|2020-02-06 00:00:00|2020-02-29 00:00:00|         null|released|\n",
            "|1000000012|  male|20s|  Korea|   Seoul|         etc|     overseas inflow|       null|             0|              null|2020-02-07 00:00:00|2020-02-27 00:00:00|         null|released|\n",
            "|1000000013|  male|80s|  Korea|   Seoul|   Jongno-gu|contact with patient| 1000000017|           117|              null|2020-02-16 00:00:00|               null|         null|deceased|\n",
            "|1000000014|female|60s|  Korea|   Seoul|   Jongno-gu|contact with patient| 1000000013|            27|        2020-02-06|2020-02-16 00:00:00|2020-03-12 00:00:00|         null|released|\n",
            "|1000000015|  male|70s|  Korea|   Seoul|Seongdong-gu|    Seongdong-gu APT|       null|             8|        2020-02-11|2020-02-19 00:00:00|               null|         null|released|\n",
            "|1000000016|  male|70s|  Korea|   Seoul|   Jongno-gu|contact with patient| 1000000017|          null|              null|2020-02-19 00:00:00|2020-03-11 00:00:00|         null|released|\n",
            "|1000000017|  male|70s|  Korea|   Seoul|   Jongno-gu|contact with patient| 1000000003|          null|              null|2020-02-20 00:00:00|2020-03-01 00:00:00|         null|released|\n",
            "|1000000018|  male|20s|  Korea|   Seoul|         etc|                 etc|       null|          null|              null|2020-02-20 00:00:00|               null|         null|released|\n",
            "|1000000019|female|70s|  Korea|   Seoul|   Jongno-gu|contact with patient| 1000000021|          null|              null|2020-02-20 00:00:00|2020-03-08 00:00:00|         null|released|\n",
            "|1000000020|female|70s|  Korea|   Seoul|Seongdong-gu|    Seongdong-gu APT| 1000000015|          null|              null|2020-02-20 00:00:00|               null|         null|released|\n",
            "+----------+------+---+-------+--------+------------+--------------------+-----------+--------------+------------------+-------------------+-------------------+-------------+--------+\n",
            "only showing top 20 rows\n",
            "\n"
          ]
        }
      ],
      "source": [
        "# Use SELECT statement to select all columns from the dataframe and show the\n",
        "spark.sql(\"SELECT * FROM patient_info \").show()"
      ]
    },
    {
      "cell_type": "markdown",
      "id": "e0da4318",
      "metadata": {
        "id": "e0da4318"
      },
      "source": [
        "### *Using SQL commands*, limit the output to only 5 rows "
      ]
    },
    {
      "cell_type": "code",
      "execution_count": null,
      "id": "97911bdd",
      "metadata": {
        "colab": {
          "base_uri": "https://localhost:8080/"
        },
        "id": "97911bdd",
        "outputId": "92d64a91-143e-4e59-9130-b4faee55ebcc"
      },
      "outputs": [
        {
          "output_type": "execute_result",
          "data": {
            "text/plain": [
              "DataFrame[patient_id: bigint, sex: string, age: string, country: string, province: string, city: string, infection_case: string, infected_by: string, contact_number: string, symptom_onset_date: string, confirmed_date: timestamp, released_date: timestamp, deceased_date: timestamp, state: string]"
            ]
          },
          "metadata": {},
          "execution_count": 29
        }
      ],
      "source": [
        "# *Using SQL commands*, limit the output to only 5 rows \n",
        "spark.sql(\"SELECT * FROM patient_info LIMIT 5\")"
      ]
    },
    {
      "cell_type": "markdown",
      "id": "b70edf17",
      "metadata": {
        "id": "b70edf17"
      },
      "source": [
        "### Select the count of males and females in the dataset"
      ]
    },
    {
      "cell_type": "code",
      "execution_count": null,
      "id": "00e9fd65",
      "metadata": {
        "colab": {
          "base_uri": "https://localhost:8080/"
        },
        "id": "00e9fd65",
        "outputId": "80b85c48-cd29-41c6-928e-acb209388d75"
      },
      "outputs": [
        {
          "output_type": "stream",
          "name": "stdout",
          "text": [
            "+--------+-----------------+\n",
            "|   state|count(patient_id)|\n",
            "+--------+-----------------+\n",
            "|isolated|             2158|\n",
            "|released|             2929|\n",
            "|deceased|               78|\n",
            "+--------+-----------------+\n",
            "\n"
          ]
        }
      ],
      "source": [
        "# Select the count of males and females in the patient_info\n",
        "spark.sql(\"SELECT state, COUNT(patient_id)\\\n",
        "            from patient_info\\\n",
        "                group by state\").show()"
      ]
    },
    {
      "cell_type": "markdown",
      "id": "73683674",
      "metadata": {
        "id": "73683674"
      },
      "source": [
        "### How many people did survive, and how many didn't?"
      ]
    },
    {
      "cell_type": "code",
      "execution_count": null,
      "id": "1e5a3908",
      "metadata": {
        "colab": {
          "base_uri": "https://localhost:8080/"
        },
        "id": "1e5a3908",
        "outputId": "084266e0-89c5-4a00-8ba7-d3e5b7d28dfa"
      },
      "outputs": [
        {
          "output_type": "stream",
          "name": "stdout",
          "text": [
            "+-----------------+\n",
            "|count(patient_id)|\n",
            "+-----------------+\n",
            "|             1122|\n",
            "|             2218|\n",
            "|             1825|\n",
            "+-----------------+\n",
            "\n"
          ]
        }
      ],
      "source": [
        "# How many people did survive, and how many didn't?\n",
        "spark.sql(\"SELECT  COUNT(patient_id)\\\n",
        "             from patient_info\\\n",
        "                 group by sex\").show()\n"
      ]
    },
    {
      "cell_type": "markdown",
      "id": "d4424228",
      "metadata": {
        "id": "d4424228"
      },
      "source": [
        "### Now, let's perform some preprocessing using SQL:\n",
        "1. Convert *age* column to double after removing the 's' at the end -- *hint: check SUBSTRING method*\n",
        "2. Select only the following columns: `['sex', 'age', 'province', 'state']`\n",
        "3. Store the result of the query in a new dataframe"
      ]
    },
    {
      "cell_type": "markdown",
      "id": "d4a24c24",
      "metadata": {
        "id": "d4a24c24"
      },
      "source": [
        "## Machine Learning \n",
        "### Create a pipeline model to predict is_dead and evaluate the performance.\n",
        "- Use <b>StringIndexer</b> to transform <b>string</b> data type to indices.\n",
        "- Use <b>OneHotEncoder</b> to deal with categorical values.\n",
        "- Use <b>Imputer</b> to fill missing data with mean."
      ]
    },
    {
      "cell_type": "code",
      "execution_count": null,
      "id": "1754ef4a",
      "metadata": {
        "id": "1754ef4a"
      },
      "outputs": [],
      "source": [
        "import numpy as np"
      ]
    },
    {
      "cell_type": "code",
      "execution_count": null,
      "id": "19f52fce",
      "metadata": {
        "id": "19f52fce"
      },
      "outputs": [],
      "source": [
        "\n",
        "from pyspark.ml.classification import RandomForestClassifier\n",
        "from pyspark.ml import Pipeline\n",
        "\n"
      ]
    },
    {
      "cell_type": "code",
      "execution_count": null,
      "id": "3396ebfa",
      "metadata": {
        "colab": {
          "base_uri": "https://localhost:8080/"
        },
        "id": "3396ebfa",
        "outputId": "8b7a9de5-5640-4c1c-a37e-ed2122b5a8eb"
      },
      "outputs": [
        {
          "output_type": "stream",
          "name": "stdout",
          "text": [
            "root\n",
            " |-- age: double (nullable = true)\n",
            " |-- province: string (nullable = true)\n",
            " |-- is_male: boolean (nullable = false)\n",
            " |-- is_dead: string (nullable = true)\n",
            "\n"
          ]
        }
      ],
      "source": [
        "patient_info.printSchema()\n"
      ]
    },
    {
      "cell_type": "code",
      "source": [
        "patient_info.withColumn('is_male', (patient_info.is_male).cast('integer')) "
      ],
      "metadata": {
        "colab": {
          "base_uri": "https://localhost:8080/"
        },
        "id": "gS6qERWkdfE0",
        "outputId": "fcb4b79b-eeea-47cb-8462-eb10d09f1bd5"
      },
      "id": "gS6qERWkdfE0",
      "execution_count": null,
      "outputs": [
        {
          "output_type": "execute_result",
          "data": {
            "text/plain": [
              "DataFrame[age: double, province: string, is_male: int, is_dead: string]"
            ]
          },
          "metadata": {},
          "execution_count": 37
        }
      ]
    },
    {
      "cell_type": "code",
      "execution_count": null,
      "id": "7a71806f",
      "metadata": {
        "id": "7a71806f"
      },
      "outputs": [],
      "source": [
        "#Use StringIndexer to transform string data type to indices.\n",
        "from pyspark.ml.feature import Imputer, StringIndexer, VectorAssembler\n",
        "from pyspark.ml.feature import OneHotEncoder\n",
        "\n",
        "index = StringIndexer(inputCols=[\"is_dead\",\"province\"], outputCols=[\"is_dead_index\",\"province_index\"],handleInvalid=\"skip\")\n",
        "ohe = OneHotEncoder(inputCols=[\"age\",\"province_index\"], outputCols=[\"age_index_\",\"province_index_\"])\n",
        "\n",
        "rfc = RandomForestClassifier(featuresCol=\"features\",predictionCol=\"is_dead\")\n",
        "model = Pipeline(stages=[index,ohe,rfc]).fit(patient_info)\n"
      ]
    },
    {
      "cell_type": "code",
      "source": [],
      "metadata": {
        "id": "bD02t2K6gLx_"
      },
      "id": "bD02t2K6gLx_",
      "execution_count": null,
      "outputs": []
    }
  ],
  "metadata": {
    "interpreter": {
      "hash": "916dbcbb3f70747c44a77c7bcd40155683ae19c65e1c03b4aa3499c5328201f1"
    },
    "kernelspec": {
      "display_name": "Python 3.8.10 64-bit",
      "language": "python",
      "name": "python3"
    },
    "language_info": {
      "codemirror_mode": {
        "name": "ipython",
        "version": 3
      },
      "file_extension": ".py",
      "mimetype": "text/x-python",
      "name": "python",
      "nbconvert_exporter": "python",
      "pygments_lexer": "ipython3",
      "version": "3.8.10"
    },
    "vscode": {
      "interpreter": {
        "hash": "77777023d88644f72a7b3a0218da8c79930d71f5ca138eff4e7b6009fecb75d5"
      }
    },
    "colab": {
      "provenance": [],
      "collapsed_sections": [
        "d4424228"
      ],
      "include_colab_link": true
    }
  },
  "nbformat": 4,
  "nbformat_minor": 5
}